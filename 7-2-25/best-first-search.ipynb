{
 "cells": [
  {
   "cell_type": "markdown",
   "id": "82144618",
   "metadata": {},
   "source": [
    "# best first search or a* problem"
   ]
  },
  {
   "cell_type": "code",
   "execution_count": 8,
   "id": "d8ff5b05",
   "metadata": {},
   "outputs": [
    {
     "name": "stdout",
     "output_type": "stream",
     "text": [
      "Enter Goal node: G\n",
      "Enter distance of A from G: 40\n",
      "Enter distance of B from G: 32\n",
      "Enter distance of C from G: 25\n",
      "Enter distance of D from G: 35\n",
      "Enter distance of E from G: 19\n",
      "Enter distance of F from G: 17\n",
      "Enter distance of H from G: 10\n"
     ]
    }
   ],
   "source": [
    "graph={'A': ['D','B','C'],\n",
    "       'B': ['A','E'],\n",
    "       'C': ['A','D','E','F'],\n",
    "       'D': ['A','C','F'],\n",
    "       'E': ['B','C','H'],\n",
    "       'F': ['D','C','G'],\n",
    "       'H': ['E','G'],\n",
    "       'G': ['F','H']\n",
    "      }\n",
    "\n",
    "goal = input(\"Enter Goal node: \")\n",
    "distances = {}\n",
    "\n",
    "for node in graph:\n",
    "    if node != goal:\n",
    "        distances[node] = int(input(f\"Enter distance of {node} from {goal}: \"))\n",
    "    else:\n",
    "        distances[node] = 0\n",
    "\n",
    "for node in graph:\n",
    "    graph[node].sort(key=lambda x: distances[x], reverse=True)"
   ]
  },
  {
   "cell_type": "code",
   "execution_count": 9,
   "id": "d7a9d957",
   "metadata": {},
   "outputs": [
    {
     "data": {
      "text/plain": [
       "{'A': ['D', 'B', 'C'],\n",
       " 'B': ['A', 'E'],\n",
       " 'C': ['A', 'D', 'E', 'F'],\n",
       " 'D': ['A', 'C', 'F'],\n",
       " 'E': ['B', 'C', 'H'],\n",
       " 'F': ['D', 'C', 'G'],\n",
       " 'H': ['E', 'G'],\n",
       " 'G': ['F', 'H']}"
      ]
     },
     "execution_count": 9,
     "metadata": {},
     "output_type": "execute_result"
    }
   ],
   "source": [
    "graph"
   ]
  },
  {
   "cell_type": "code",
   "execution_count": 10,
   "id": "a9bef7fd",
   "metadata": {},
   "outputs": [
    {
     "name": "stdout",
     "output_type": "stream",
     "text": [
      "Enter starting node: A\n"
     ]
    }
   ],
   "source": [
    "source=input(\"Enter starting node: \")"
   ]
  },
  {
   "cell_type": "code",
   "execution_count": 11,
   "id": "b5fe4c4f",
   "metadata": {},
   "outputs": [],
   "source": [
    "opened=[]\n",
    "closed=[]\n",
    "while goal not in closed:\n",
    "    start=source\n",
    "    opened.append(start)\n",
    "    l=list(graph[start])\n",
    "    for i in l:\n",
    "        if i not in opened and i not in closed:\n",
    "            opened.insert(0,i)\n",
    "    closed.append(start)\n",
    "    opened.remove(start)\n",
    "    source=opened[0]"
   ]
  },
  {
   "cell_type": "code",
   "execution_count": 12,
   "id": "e3126432",
   "metadata": {},
   "outputs": [
    {
     "name": "stdout",
     "output_type": "stream",
     "text": [
      "A\n",
      "|\n",
      "C\n",
      "|\n",
      "F\n",
      "|\n",
      "G\n"
     ]
    }
   ],
   "source": [
    "for i in range(len(closed)-1):\n",
    "    print(closed[i])\n",
    "    print('|')\n",
    "print(closed[-1])"
   ]
  }
 ],
 "metadata": {
  "kernelspec": {
   "display_name": "Python 3 (ipykernel)",
   "language": "python",
   "name": "python3"
  },
  "language_info": {
   "codemirror_mode": {
    "name": "ipython",
    "version": 3
   },
   "file_extension": ".py",
   "mimetype": "text/x-python",
   "name": "python",
   "nbconvert_exporter": "python",
   "pygments_lexer": "ipython3",
   "version": "3.10.9"
  }
 },
 "nbformat": 4,
 "nbformat_minor": 5
}
