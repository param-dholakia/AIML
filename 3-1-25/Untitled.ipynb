{
 "cells": [
  {
   "cell_type": "code",
   "execution_count": 1,
   "id": "e8dbbef9",
   "metadata": {},
   "outputs": [
    {
     "data": {
      "text/plain": [
       "22"
      ]
     },
     "execution_count": 1,
     "metadata": {},
     "output_type": "execute_result"
    }
   ],
   "source": [
    "10+12"
   ]
  },
  {
   "cell_type": "markdown",
   "id": "d6511eb0",
   "metadata": {},
   "source": [
    "hello"
   ]
  },
  {
   "cell_type": "markdown",
   "id": "8e8ea438",
   "metadata": {},
   "source": [
    "# AIML"
   ]
  },
  {
   "cell_type": "markdown",
   "id": "aba89c66",
   "metadata": {},
   "source": [
    "## AIML"
   ]
  },
  {
   "cell_type": "markdown",
   "id": "8c573e8b",
   "metadata": {},
   "source": [
    "### AIML"
   ]
  },
  {
   "cell_type": "markdown",
   "id": "3d69c860",
   "metadata": {},
   "source": [
    "- AIML\n",
    "* AIML"
   ]
  },
  {
   "cell_type": "code",
   "execution_count": 5,
   "id": "3526bbb9",
   "metadata": {},
   "outputs": [
    {
     "name": "stdout",
     "output_type": "stream",
     "text": [
      "hello\n"
     ]
    }
   ],
   "source": [
    "10+20\n",
    "print(\"hello\")"
   ]
  },
  {
   "cell_type": "code",
   "execution_count": 9,
   "id": "17430277",
   "metadata": {},
   "outputs": [
    {
     "data": {
      "text/plain": [
       "'C:\\\\Users\\\\GCET\\\\Param-aiml'"
      ]
     },
     "execution_count": 9,
     "metadata": {},
     "output_type": "execute_result"
    }
   ],
   "source": [
    "pwd"
   ]
  },
  {
   "cell_type": "code",
   "execution_count": null,
   "id": "0b316223",
   "metadata": {},
   "outputs": [],
   "source": []
  }
 ],
 "metadata": {
  "kernelspec": {
   "display_name": "Python 3 (ipykernel)",
   "language": "python",
   "name": "python3"
  },
  "language_info": {
   "codemirror_mode": {
    "name": "ipython",
    "version": 3
   },
   "file_extension": ".py",
   "mimetype": "text/x-python",
   "name": "python",
   "nbconvert_exporter": "python",
   "pygments_lexer": "ipython3",
   "version": "3.10.9"
  }
 },
 "nbformat": 4,
 "nbformat_minor": 5
}
