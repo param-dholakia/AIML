{
 "cells": [
  {
   "cell_type": "code",
   "execution_count": 7,
   "id": "e3e910ff",
   "metadata": {},
   "outputs": [],
   "source": [
    "from queue import PriorityQueue\n",
    "\n",
    "def heuristic(state, goal):\n",
    "    return abs(state[0] - goal) + abs(state[1] - goal)"
   ]
  },
  {
   "cell_type": "code",
   "execution_count": 8,
   "id": "e96f20cc",
   "metadata": {},
   "outputs": [],
   "source": [
    "def best_first_search(jug1, jug2, goal):\n",
    "    visited = set()\n",
    "    pq = PriorityQueue()\n",
    "    pq.put((heuristic((0, 0), goal), (0, 0), []))\n",
    "    \n",
    "    while not pq.empty():\n",
    "        _, (x, y), path = pq.get()\n",
    "        \n",
    "        if (x, y) in visited:\n",
    "            continue\n",
    "        visited.add((x, y))\n",
    "        path = path + [(x, y)]\n",
    "        \n",
    "        if x == goal or y == goal:\n",
    "            return path\n",
    "        \n",
    "        next_states = set([\n",
    "            (jug1, y),   \n",
    "            (x, jug2),   \n",
    "            (0, y),     \n",
    "            (x, 0),     \n",
    "            (x - min(x, jug2 - y), y + min(x, jug2 - y)),\n",
    "            (x + min(y, jug1 - x), y - min(y, jug1 - x))  \n",
    "        ])\n",
    "        \n",
    "        for state in next_states:\n",
    "            if state not in visited:\n",
    "                pq.put((heuristic(state, goal), state, path))\n",
    "    \n",
    "    return \"No solution\""
   ]
  },
  {
   "cell_type": "code",
   "execution_count": 9,
   "id": "27b607d3",
   "metadata": {},
   "outputs": [
    {
     "name": "stdout",
     "output_type": "stream",
     "text": [
      "Solution Path: [(0, 0), (0, 3), (3, 0), (3, 3), (4, 2)]\n"
     ]
    }
   ],
   "source": [
    "if __name__ == \"__main__\":\n",
    "    jug1_capacity = 4\n",
    "    jug2_capacity = 3\n",
    "    target = 2\n",
    "    \n",
    "    solution = best_first_search(jug1_capacity, jug2_capacity, target)\n",
    "    print(\"Solution Path:\", solution)"
   ]
  },
  {
   "cell_type": "code",
   "execution_count": null,
   "id": "70a52cb8",
   "metadata": {},
   "outputs": [],
   "source": []
  }
 ],
 "metadata": {
  "kernelspec": {
   "display_name": "Python 3 (ipykernel)",
   "language": "python",
   "name": "python3"
  },
  "language_info": {
   "codemirror_mode": {
    "name": "ipython",
    "version": 3
   },
   "file_extension": ".py",
   "mimetype": "text/x-python",
   "name": "python",
   "nbconvert_exporter": "python",
   "pygments_lexer": "ipython3",
   "version": "3.10.9"
  }
 },
 "nbformat": 4,
 "nbformat_minor": 5
}
