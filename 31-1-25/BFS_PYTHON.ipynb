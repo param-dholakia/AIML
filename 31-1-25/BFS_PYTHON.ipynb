{
 "cells": [
  {
   "cell_type": "code",
   "execution_count": 14,
   "id": "96b0fd2d",
   "metadata": {},
   "outputs": [
    {
     "data": {
      "text/plain": [
       "{0: [1, 2], 1: [0, 2, 3], 2: [0, 1, 4], 3: [1, 4], 4: [3, 2]}"
      ]
     },
     "execution_count": 14,
     "metadata": {},
     "output_type": "execute_result"
    }
   ],
   "source": [
    "graph = {\n",
    "    0: [1, 2],\n",
    "    1: [0, 2, 3],\n",
    "    2: [0, 1, 4],\n",
    "    3: [1, 4],\n",
    "    4: [3, 2]\n",
    "}\n",
    "graph"
   ]
  },
  {
   "cell_type": "code",
   "execution_count": 15,
   "id": "ba56e5f7",
   "metadata": {},
   "outputs": [
    {
     "data": {
      "text/plain": [
       "[0, 1, 2, 3, 4]"
      ]
     },
     "execution_count": 15,
     "metadata": {},
     "output_type": "execute_result"
    }
   ],
   "source": [
    "keys=list(graph.keys())\n",
    "keys"
   ]
  },
  {
   "cell_type": "code",
   "execution_count": 16,
   "id": "945359d2",
   "metadata": {},
   "outputs": [],
   "source": [
    "visited=[]\n",
    "queue=[]"
   ]
  },
  {
   "cell_type": "code",
   "execution_count": 17,
   "id": "cdcd4678",
   "metadata": {},
   "outputs": [
    {
     "name": "stdout",
     "output_type": "stream",
     "text": [
      "Enter Starting node1\n"
     ]
    }
   ],
   "source": [
    "start=int(input(\"Enter Starting node\"))"
   ]
  },
  {
   "cell_type": "code",
   "execution_count": 18,
   "id": "82bf9adc",
   "metadata": {},
   "outputs": [
    {
     "name": "stdout",
     "output_type": "stream",
     "text": [
      "[0, 2, 3]\n"
     ]
    }
   ],
   "source": [
    "print(graph[start])"
   ]
  },
  {
   "cell_type": "code",
   "execution_count": 19,
   "id": "068b3da8",
   "metadata": {},
   "outputs": [],
   "source": [
    "while queue:\n",
    "    node = queue.pop(0)  \n",
    "    print(node, end=\" \") \n",
    "\n",
    "    for neighbor in graph[node]:\n",
    "        if neighbor not in visited:\n",
    "            visited.append(neighbor) \n",
    "            queue.append(neighbor) "
   ]
  },
  {
   "cell_type": "code",
   "execution_count": 20,
   "id": "2e14e233",
   "metadata": {},
   "outputs": [
    {
     "data": {
      "text/plain": [
       "[]"
      ]
     },
     "execution_count": 20,
     "metadata": {},
     "output_type": "execute_result"
    }
   ],
   "source": [
    "queue"
   ]
  },
  {
   "cell_type": "code",
   "execution_count": 21,
   "id": "0926af89",
   "metadata": {},
   "outputs": [
    {
     "data": {
      "text/plain": [
       "[]"
      ]
     },
     "execution_count": 21,
     "metadata": {},
     "output_type": "execute_result"
    }
   ],
   "source": [
    "visited"
   ]
  },
  {
   "cell_type": "code",
   "execution_count": null,
   "id": "09972f7c",
   "metadata": {},
   "outputs": [],
   "source": []
  }
 ],
 "metadata": {
  "kernelspec": {
   "display_name": "Python 3 (ipykernel)",
   "language": "python",
   "name": "python3"
  },
  "language_info": {
   "codemirror_mode": {
    "name": "ipython",
    "version": 3
   },
   "file_extension": ".py",
   "mimetype": "text/x-python",
   "name": "python",
   "nbconvert_exporter": "python",
   "pygments_lexer": "ipython3",
   "version": "3.10.9"
  }
 },
 "nbformat": 4,
 "nbformat_minor": 5
}
