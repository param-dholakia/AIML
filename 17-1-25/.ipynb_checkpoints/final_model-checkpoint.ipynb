{
 "cells": [
  {
   "cell_type": "code",
   "execution_count": 1,
   "id": "70c80924",
   "metadata": {},
   "outputs": [],
   "source": [
    "from sklearn.linear_model import LinearRegression"
   ]
  },
  {
   "cell_type": "code",
   "execution_count": 2,
   "id": "97ba4aff",
   "metadata": {},
   "outputs": [],
   "source": [
    "import joblib\n",
    "model=joblib.load('model_sum')"
   ]
  },
  {
   "cell_type": "code",
   "execution_count": 3,
   "id": "648d6312",
   "metadata": {},
   "outputs": [
    {
     "name": "stderr",
     "output_type": "stream",
     "text": [
      "C:\\ProgramData\\anaconda3\\lib\\site-packages\\sklearn\\base.py:420: UserWarning: X does not have valid feature names, but LinearRegression was fitted with feature names\n",
      "  warnings.warn(\n"
     ]
    },
    {
     "data": {
      "text/plain": [
       "29.999651003304272"
      ]
     },
     "execution_count": 3,
     "metadata": {},
     "output_type": "execute_result"
    }
   ],
   "source": [
    "model.predict([[10,20]])[0]"
   ]
  },
  {
   "cell_type": "code",
   "execution_count": 4,
   "id": "33b33a2b",
   "metadata": {},
   "outputs": [],
   "source": [
    "from tkinter import *\n",
    "import joblib"
   ]
  },
  {
   "cell_type": "code",
   "execution_count": 6,
   "id": "041c74a2",
   "metadata": {},
   "outputs": [
    {
     "name": "stderr",
     "output_type": "stream",
     "text": [
      "C:\\ProgramData\\anaconda3\\lib\\site-packages\\sklearn\\base.py:420: UserWarning: X does not have valid feature names, but LinearRegression was fitted with feature names\n",
      "  warnings.warn(\n"
     ]
    },
    {
     "name": "stdout",
     "output_type": "stream",
     "text": [
      "Sum is [169.99983901]\n"
     ]
    }
   ],
   "source": [
    "def show_entry_fields():\n",
    "    p1 = float(e1.get())\n",
    "    p2 = float(e2.get())\n",
    "    \n",
    "    model = joblib.load('model_sum')\n",
    "    result = model.predict([[p1,p2]])\n",
    "    \n",
    "    Label(master,text='Sum is = ').grid(row=4)\n",
    "    Label(master,text=result).grid(row=5)\n",
    "    print(\"Sum is\",result)\n",
    "\n",
    "master = Tk()\n",
    "master.title(\"Addition of two numbers using ML\")\n",
    "\n",
    "label = Label(master, text = \"Addition of two numbers using ML\",\n",
    "             bg = 'black',fg='white').grid(row=0,columnspan=2)\n",
    "\n",
    "Label(master,text =\"Enter First Number\").grid(row=1)\n",
    "Label(master,text =\"Enter Second Number\").grid(row=2)\n",
    "\n",
    "e1 =Entry(master)\n",
    "e2= Entry(master)\n",
    "\n",
    "e1.grid(row=1,column=1)\n",
    "e2.grid(row=2,column=1)\n",
    "\n",
    "Button(master,text='Predict',command=show_entry_fields).grid()\n",
    "\n",
    "mainloop()"
   ]
  },
  {
   "cell_type": "code",
   "execution_count": null,
   "id": "cf4d851e",
   "metadata": {},
   "outputs": [],
   "source": []
  }
 ],
 "metadata": {
  "kernelspec": {
   "display_name": "Python 3 (ipykernel)",
   "language": "python",
   "name": "python3"
  },
  "language_info": {
   "codemirror_mode": {
    "name": "ipython",
    "version": 3
   },
   "file_extension": ".py",
   "mimetype": "text/x-python",
   "name": "python",
   "nbconvert_exporter": "python",
   "pygments_lexer": "ipython3",
   "version": "3.10.9"
  }
 },
 "nbformat": 4,
 "nbformat_minor": 5
}
